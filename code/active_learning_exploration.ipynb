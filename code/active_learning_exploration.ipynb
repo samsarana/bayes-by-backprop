{
  "nbformat": 4,
  "nbformat_minor": 0,
  "metadata": {
    "colab": {
      "name": "active_learning_exploration.ipynb",
      "version": "0.3.2",
      "provenance": [],
      "collapsed_sections": []
    },
    "kernelspec": {
      "name": "python3",
      "display_name": "Python 3"
    },
    "accelerator": "GPU"
  },
  "cells": [
    {
      "metadata": {
        "id": "GZbKcJrcwa4q",
        "colab_type": "code",
        "colab": {}
      },
      "cell_type": "code",
      "source": [
        "import torch\n",
        "import torch.nn as nn\n",
        "import torch.nn.functional as F\n",
        "import torchvision\n",
        "import math\n",
        "\n",
        "import matplotlib.pyplot as plt\n",
        "\n",
        "import torch.distributions as dists\n",
        "import torch.optim as optim\n",
        "\n",
        "import copy\n",
        "\n",
        "from collections import Counter"
      ],
      "execution_count": 0,
      "outputs": []
    },
    {
      "metadata": {
        "id": "Gs-T-u1OxZgr",
        "colab_type": "code",
        "outputId": "35a3ff78-a228-47f0-d859-aa2d86c3a6f4",
        "colab": {
          "base_uri": "https://localhost:8080/",
          "height": 34
        }
      },
      "cell_type": "code",
      "source": [
        "# Run on GPU\n",
        "DEVICE = torch.device(\"cuda\" if torch.cuda.is_available() else \"cpu\")\n",
        "LOADER_KWARGS = {'num_workers': 1, 'pin_memory': True} if torch.cuda.is_available() else {}\n",
        "print(torch.cuda.is_available())"
      ],
      "execution_count": 0,
      "outputs": [
        {
          "output_type": "stream",
          "text": [
            "True\n"
          ],
          "name": "stdout"
        }
      ]
    },
    {
      "metadata": {
        "id": "939Q4HEaxpOn",
        "colab_type": "code",
        "outputId": "b6a10ed8-ec0c-42fa-e5f4-0d367e39de40",
        "colab": {
          "base_uri": "https://localhost:8080/",
          "height": 275
        }
      },
      "cell_type": "code",
      "source": [
        "# Download and transform data\n",
        "data_transform = torchvision.transforms.Compose([torchvision.transforms.ToTensor()])\n",
        "train_data = torchvision.datasets.MNIST(root='./data', train=True, transform=data_transform, download=True)\n",
        "test_data = torchvision.datasets.MNIST(root='./data', train=False, transform=data_transform, download=True)"
      ],
      "execution_count": 0,
      "outputs": [
        {
          "output_type": "stream",
          "text": [
            "  0%|          | 0/9912422 [00:00<?, ?it/s]"
          ],
          "name": "stderr"
        },
        {
          "output_type": "stream",
          "text": [
            "Downloading http://yann.lecun.com/exdb/mnist/train-images-idx3-ubyte.gz to ./data/MNIST/raw/train-images-idx3-ubyte.gz\n"
          ],
          "name": "stdout"
        },
        {
          "output_type": "stream",
          "text": [
            "9920512it [00:00, 21243011.81it/s]                            \n"
          ],
          "name": "stderr"
        },
        {
          "output_type": "stream",
          "text": [
            "Extracting ./data/MNIST/raw/train-images-idx3-ubyte.gz\n"
          ],
          "name": "stdout"
        },
        {
          "output_type": "stream",
          "text": [
            "32768it [00:00, 332455.95it/s]\n",
            "0it [00:00, ?it/s]"
          ],
          "name": "stderr"
        },
        {
          "output_type": "stream",
          "text": [
            "Downloading http://yann.lecun.com/exdb/mnist/train-labels-idx1-ubyte.gz to ./data/MNIST/raw/train-labels-idx1-ubyte.gz\n",
            "Extracting ./data/MNIST/raw/train-labels-idx1-ubyte.gz\n",
            "Downloading http://yann.lecun.com/exdb/mnist/t10k-images-idx3-ubyte.gz to ./data/MNIST/raw/t10k-images-idx3-ubyte.gz\n"
          ],
          "name": "stdout"
        },
        {
          "output_type": "stream",
          "text": [
            "1654784it [00:00, 5274492.04it/s]                           \n",
            "8192it [00:00, 128865.29it/s]\n"
          ],
          "name": "stderr"
        },
        {
          "output_type": "stream",
          "text": [
            "Extracting ./data/MNIST/raw/t10k-images-idx3-ubyte.gz\n",
            "Downloading http://yann.lecun.com/exdb/mnist/t10k-labels-idx1-ubyte.gz to ./data/MNIST/raw/t10k-labels-idx1-ubyte.gz\n",
            "Extracting ./data/MNIST/raw/t10k-labels-idx1-ubyte.gz\n",
            "Processing...\n",
            "Done!\n"
          ],
          "name": "stdout"
        }
      ]
    },
    {
      "metadata": {
        "id": "oL6tjjLRzSyi",
        "colab_type": "code",
        "colab": {}
      },
      "cell_type": "code",
      "source": [
        "# Global Variables and Load Data\n",
        "BATCH_SIZE = 100\n",
        "\n",
        "train_loader = torch.utils.data.DataLoader(train_data, batch_size=BATCH_SIZE, shuffle=False)\n",
        "test_loader = torch.utils.data.DataLoader(test_data, batch_size=BATCH_SIZE, shuffle=False)\n",
        "\n",
        "NUM_TRAIN_POINTS = len(train_data)\n",
        "NUM_TEST_POINTS = len(test_data)\n",
        "NUM_TRAIN_BATCHES = len(train_loader)\n",
        "NUM_TEST_BATCHES = len(test_loader)\n",
        "NUM_LABELS = 10\n",
        "PI = 0.5\n",
        "\n",
        "SIGMA1 = torch.cuda.FloatTensor([math.exp(-0)])\n",
        "SIGMA2 = torch.cuda.FloatTensor([math.exp(-6)]) \n",
        "IMG_HEIGHT, IMG_WIDTH = 28, 28\n",
        "num_pixels = IMG_HEIGHT * IMG_WIDTH\n",
        "\n",
        "NUM_SAMPLES = 20"
      ],
      "execution_count": 0,
      "outputs": []
    },
    {
      "metadata": {
        "id": "_NfJN1GC1PRa",
        "colab_type": "code",
        "colab": {}
      },
      "cell_type": "code",
      "source": [
        "# Variational Posterior\n",
        "class ReparameterizedGaussian:\n",
        "    def __init__(self, mus, rhos):\n",
        "        self.mus = mus\n",
        "        self.rhos = rhos\n",
        "        self.shape = self.mus.size()\n",
        "    \n",
        "    def _get_sigmas(self):\n",
        "        return torch.log(1 + torch.exp(self.rhos))\n",
        "    def sample(self):        \n",
        "        epsilon = dists.Normal(0, 1).sample(self.shape).to(DEVICE)\n",
        "        \n",
        "        sample = self.mus + self._get_sigmas() * epsilon\n",
        "        return sample\n",
        "    \n",
        "    def get_variational_posterior(self, sample):\n",
        "        pdf_likelihood = dists.Normal(self.mus, self._get_sigmas()).log_prob(sample)\n",
        "        return pdf_likelihood.sum()\n",
        "           "
      ],
      "execution_count": 0,
      "outputs": []
    },
    {
      "metadata": {
        "id": "JEBLsq6R4tBt",
        "colab_type": "code",
        "colab": {}
      },
      "cell_type": "code",
      "source": [
        "# Scale Mixture Prior\n",
        "class ScaleMixturePrior:\n",
        "    def __init__(self, sigma1, sigma2, pi):\n",
        "        self.gaussian1 = dists.Normal(0, sigma1)\n",
        "        self.gaussian2 = dists.Normal(0, sigma2)\n",
        "        self.pi = pi\n",
        "        \n",
        "        if sigma1 < sigma2:\n",
        "            print('Warning: sigma1 < sigma2 in the ScaleMixturePrior!')\n",
        "            \n",
        "    def get_prior(self, weights):\n",
        "        likelihood1 = torch.exp(self.gaussian1.log_prob(weights))\n",
        "        likelihood2 = torch.exp(self.gaussian2.log_prob(weights))\n",
        "        \n",
        "        prior_matrix = self.pi * likelihood1 + (1.0 - self.pi) * likelihood2\n",
        "        return torch.log(prior_matrix).sum()"
      ],
      "execution_count": 0,
      "outputs": []
    },
    {
      "metadata": {
        "id": "D4TX61tW4vaQ",
        "colab_type": "code",
        "colab": {}
      },
      "cell_type": "code",
      "source": [
        "# Single Bayesian Layer\n",
        "class BayesianLinearLayer(nn.Module):\n",
        "    def __init__(self, in_size, out_size,\n",
        "                mu_range=(-0.25, 0.25), rho_range=(-5, -4)):\n",
        "        super().__init__()\n",
        "        \n",
        "        self.in_size = in_size\n",
        "        self.out_size = out_size\n",
        "        \n",
        "        # Weights     \n",
        "        self.weight_mus = nn.Parameter(torch.Tensor(out_size, in_size).uniform_(*mu_range))\n",
        "        self.weight_rhos = nn.Parameter(torch.Tensor(out_size, in_size).uniform_(*rho_range))\n",
        "        self.weight_prior = ScaleMixturePrior(SIGMA1, SIGMA2, PI)\n",
        "        self.weight = ReparameterizedGaussian(self.weight_mus, self.weight_rhos)\n",
        "\n",
        "        # Biases            \n",
        "        self.bias_mus = nn.Parameter(torch.Tensor(out_size).uniform_(*mu_range))\n",
        "        self.bias_rhos = nn.Parameter(torch.Tensor(out_size).uniform_(*rho_range))        \n",
        "        self.bias_prior = ScaleMixturePrior(SIGMA1, SIGMA2, PI)        \n",
        "        self.bias = ReparameterizedGaussian(self.bias_mus, self.bias_rhos) \n",
        "                \n",
        "        self.variational_posterior = 0\n",
        "        self.prior = 0\n",
        "        \n",
        "    def forward(self, x, sample=True):\n",
        "        if sample or self.training:\n",
        "            # Take weights/biases as samples from gaussians\n",
        "            weights = self.weight.sample()\n",
        "            biases = self.bias.sample()\n",
        "    \n",
        "            self.variational_posterior = \\\n",
        "            self.weight.get_variational_posterior(weights) +\\\n",
        "            self.bias.get_variational_posterior(biases)\n",
        "            \n",
        "            self.prior = \\\n",
        "            self.weight_prior.get_prior(weights) +\\\n",
        "            self.bias_prior.get_prior(biases)\n",
        "            \n",
        "        else:\n",
        "            weights = self.weight.mus\n",
        "            biases = self.bias.mus\n",
        "            \n",
        "            self.variational_posterior = 0\n",
        "            self.prior = 0\n",
        "        \n",
        "        return F.linear(x, weights, bias=biases)        "
      ],
      "execution_count": 0,
      "outputs": []
    },
    {
      "metadata": {
        "id": "N0o2cUd64xSa",
        "colab_type": "code",
        "colab": {}
      },
      "cell_type": "code",
      "source": [
        "# Multi-Layer Bayesian Neural Network\n",
        "class BNN(nn.Module):\n",
        "    def __init__(self):\n",
        "        super().__init__()\n",
        "        self.layer1 = BayesianLinearLayer(num_pixels, 400)\n",
        "        self.layer2 = BayesianLinearLayer(400, 400)\n",
        "        self.layer3 = BayesianLinearLayer(400, 10)\n",
        "        \n",
        "    def forward(self, x, sample=True):\n",
        "        x = x.view(-1, num_pixels) # flatten\n",
        "        x = F.relu(self.layer1(x, sample))\n",
        "        x = F.relu(self.layer2(x, sample))\n",
        "        x = F.relu(self.layer3(x, sample))\n",
        "        \n",
        "        x = F.log_softmax(x) \n",
        "        return x\n",
        "        \n",
        "    def get_total_variational_posterior(self):\n",
        "        return self.layer1.variational_posterior +\\\n",
        "        self.layer2.variational_posterior +\\\n",
        "        self.layer3.variational_posterior\n",
        "        \n",
        "    def get_total_prior(self):\n",
        "        return self.layer1.prior +\\\n",
        "        self.layer2.prior +\\\n",
        "        self.layer3.prior\n",
        "    \n",
        "    def get_loss(self, batch, target):\n",
        "\n",
        "        # Tensors to store our monte carlo output\n",
        "        outputs = torch.zeros(NUM_SAMPLES, BATCH_SIZE, NUM_LABELS).to(DEVICE)\n",
        "        priors = torch.zeros(NUM_SAMPLES).to(DEVICE)\n",
        "        variational_posteriors = torch.zeros(NUM_SAMPLES).to(DEVICE)\n",
        "        \n",
        "        # Monte Carlo sample the loss\n",
        "        for i in range(NUM_SAMPLES):                      \n",
        "            outputs[i] = self(batch, sample=True) # true for mc ensemble estimate\n",
        "            variational_posteriors[i] = self.get_total_variational_posterior()\n",
        "            priors[i] = self.get_total_prior()\n",
        "                    \n",
        "        variational_posterior = variational_posteriors.mean()        \n",
        "        prior = priors.mean()\n",
        "        error_signal = F.nll_loss(outputs.mean(0), target, size_average=False)      \n",
        "        \n",
        "        loss = (variational_posterior - prior) / BATCH_SIZE + error_signal\n",
        "        \n",
        "        return loss"
      ],
      "execution_count": 0,
      "outputs": []
    },
    {
      "metadata": {
        "id": "tCSqcAclaaKP",
        "colab_type": "code",
        "colab": {}
      },
      "cell_type": "code",
      "source": [
        "random_net = BNN().to(DEVICE)\n",
        "active_net = copy.deepcopy(random_net)"
      ],
      "execution_count": 0,
      "outputs": []
    },
    {
      "metadata": {
        "id": "8TGd_ZBaTQpk",
        "colab_type": "code",
        "outputId": "70d380c6-8609-4421-e3a7-9f2ae55e4456",
        "colab": {
          "base_uri": "https://localhost:8080/",
          "height": 224
        }
      },
      "cell_type": "code",
      "source": [
        "### Train the shared base\n",
        "\n",
        "LIMITED_NUM_BATCHES = 150\n",
        "BATCH_CEILING = 200\n",
        "DIFFERENTIAL_TRAINING = 25\n",
        "\n",
        "def dual_train(random_net, active_net, random_optimizer, active_optimizer, losses):\n",
        "    random_net.train()\n",
        "    active_net.train()\n",
        "    \n",
        "    for batch_idx, (batch, targets) in enumerate(train_loader):\n",
        "        if batch_idx in range(LIMITED_NUM_BATCHES):\n",
        "            batch, targets = batch.to(DEVICE), targets.to(DEVICE)\n",
        "            \n",
        "            random_net.zero_grad()\n",
        "            active_net.zero_grad()\n",
        "            \n",
        "            random_loss = random_net.get_loss(batch, targets)\n",
        "            active_loss = active_net.get_loss(batch, targets)\n",
        "            \n",
        "            losses.append(random_loss.item())\n",
        "            \n",
        "            random_loss.backward()\n",
        "            active_loss.backward()\n",
        "            \n",
        "            random_optimizer.step()\n",
        "            active_optimizer.step()\n",
        "        \n",
        "        \n",
        "random_optimizer = optim.Adam(random_net.parameters())\n",
        "active_optimizer = optim.Adam(active_net.parameters())\n",
        "losses = []\n",
        "\n",
        "for epoch in range(5): # defo increase\n",
        "    print('Epoch {}... '.format(epoch), end='')\n",
        "    dual_train(random_net, active_net, random_optimizer, active_optimizer, losses)\n",
        "    print('Done')\n",
        "\n",
        "print('\\nDONE!')"
      ],
      "execution_count": 0,
      "outputs": [
        {
          "output_type": "stream",
          "text": [
            "Epoch 0... "
          ],
          "name": "stdout"
        },
        {
          "output_type": "stream",
          "text": [
            "/usr/local/lib/python3.6/dist-packages/ipykernel_launcher.py:15: UserWarning: Implicit dimension choice for log_softmax has been deprecated. Change the call to include dim=X as an argument.\n",
            "  from ipykernel import kernelapp as app\n",
            "/usr/local/lib/python3.6/dist-packages/torch/nn/_reduction.py:49: UserWarning: size_average and reduce args will be deprecated, please use reduction='sum' instead.\n",
            "  warnings.warn(warning.format(ret))\n"
          ],
          "name": "stderr"
        },
        {
          "output_type": "stream",
          "text": [
            "Done\n",
            "Epoch 1... Done\n",
            "Epoch 2... Done\n",
            "Epoch 3... Done\n",
            "Epoch 4... Done\n",
            "\n",
            "DONE!\n"
          ],
          "name": "stdout"
        }
      ]
    },
    {
      "metadata": {
        "id": "1sTvG4I4eHXu",
        "colab_type": "code",
        "outputId": "c1436d3e-79a2-47af-e8bd-2038f8975f5a",
        "colab": {
          "base_uri": "https://localhost:8080/",
          "height": 269
        }
      },
      "cell_type": "code",
      "source": [
        "# Graph losses\n",
        "\n",
        "plt.scatter(range(len(losses)), losses, c='r', s=5, label='loss', marker='.')\n",
        "plt.legend()\n",
        "plt.show()"
      ],
      "execution_count": 0,
      "outputs": [
        {
          "output_type": "display_data",
          "data": {
            "image/png": "[encoded data removed]",
            "text/plain": [
              "<Figure size 432x288 with 1 Axes>"
            ]
          },
          "metadata": {
            "tags": []
          }
        }
      ]
    },
    {
      "metadata": {
        "id": "0_7n3-GzElPg",
        "colab_type": "code",
        "outputId": "1fd9e876-e303-40ff-ed36-d8bce600a5ad",
        "colab": {
          "base_uri": "https://localhost:8080/",
          "height": 326
        }
      },
      "cell_type": "code",
      "source": [
        "### Train random net on additional random batches\n",
        "def random_additional_train(random_net, random_optimizer, additional_random_losses):\n",
        "    random_net.train()\n",
        "    for batch_idx, (batch, targets) in enumerate(train_loader):\n",
        "        \n",
        "        # Train an additional 5 batches only\n",
        "        if batch_idx in range(LIMITED_NUM_BATCHES, LIMITED_NUM_BATCHES + DIFFERENTIAL_TRAINING):\n",
        "#             print('\\nAdditional training on batch {}'.format(batch_idx))\n",
        "        \n",
        "            batch, targets = batch.to(DEVICE), targets.to(DEVICE)\n",
        "            random_net.zero_grad()\n",
        "            random_loss = random_net.get_loss(batch, targets)\n",
        "            additional_random_losses.append(random_loss)\n",
        "            random_loss.backward()\n",
        "            random_optimizer.step()\n",
        "         \n",
        "        if batch_idx >= LIMITED_NUM_BATCHES + DIFFERENTIAL_TRAINING:\n",
        "            break\n",
        "                \n",
        "additional_random_losses = []\n",
        "print('Starting training')\n",
        "for epoch in range(5):\n",
        "    random_additional_train(random_net, random_optimizer, additional_random_losses)\n",
        "    print('\\nFinished epoch {}'.format(epoch))\n",
        "print('\\nDONE!')"
      ],
      "execution_count": 0,
      "outputs": [
        {
          "output_type": "stream",
          "text": [
            "Starting training\n"
          ],
          "name": "stdout"
        },
        {
          "output_type": "stream",
          "text": [
            "/usr/local/lib/python3.6/dist-packages/ipykernel_launcher.py:15: UserWarning: Implicit dimension choice for log_softmax has been deprecated. Change the call to include dim=X as an argument.\n",
            "  from ipykernel import kernelapp as app\n",
            "/usr/local/lib/python3.6/dist-packages/torch/nn/_reduction.py:49: UserWarning: size_average and reduce args will be deprecated, please use reduction='sum' instead.\n",
            "  warnings.warn(warning.format(ret))\n"
          ],
          "name": "stderr"
        },
        {
          "output_type": "stream",
          "text": [
            "\n",
            "Finished epoch 0\n",
            "\n",
            "Finished epoch 1\n",
            "\n",
            "Finished epoch 2\n",
            "\n",
            "Finished epoch 3\n",
            "\n",
            "Finished epoch 4\n",
            "\n",
            "DONE!\n"
          ],
          "name": "stdout"
        }
      ]
    },
    {
      "metadata": {
        "id": "mpdsnrOrEorF",
        "colab_type": "code",
        "outputId": "cc7d89a2-75e3-40a6-de92-1dafaab9f0a7",
        "colab": {
          "base_uri": "https://localhost:8080/",
          "height": 3539
        }
      },
      "cell_type": "code",
      "source": [
        "ACTIVE_POOL_SIZE = (BATCH_CEILING - LIMITED_NUM_BATCHES) * BATCH_SIZE\n",
        "    \n",
        "def get_prediction_distribution(active_net, point, mc_size=20):\n",
        "    '''Return histogram of predictions from ensemble'''\n",
        "    predictions_dist = Counter()\n",
        "    for i in range(mc_size): \n",
        "        predictions_dist.update([torch.argmax(active_net(point, sample=True)).item()]) # pop item out       \n",
        "    return predictions_dist\n",
        "\n",
        "\n",
        "def get_uncertainty_scalar(active_net, point, mc_size=20):\n",
        "    # Get predictions_cntr\n",
        "    predictions_cntr = get_prediction_distribution(active_net, point)\n",
        "    \n",
        "    # Compute information entropy of prediction distribution. Say this our measure of uncertainty\n",
        "    uncertainty_scalar = 0\n",
        "    for num in predictions_cntr:       # zeros don't matter\n",
        "        count = predictions_cntr[num]\n",
        "        \n",
        "        pX = count / mc_size\n",
        "        uncertainty_scalar -= pX * math.log(pX)   # DTree information entropy\n",
        "\n",
        "    return predictions_cntr, uncertainty_scalar      \n",
        "\n",
        "def classify_active_pool(active_net, mc_size=20):\n",
        "    '''Classifies uncertainty pool'''\n",
        "    active_net.eval() \n",
        "  \n",
        "      \n",
        "    points = torch.zeros(ACTIVE_POOL_SIZE, 1, 28, 28).to(DEVICE) \n",
        "    labels = torch.zeros(ACTIVE_POOL_SIZE).to(DEVICE)\n",
        "    uncertainty = torch.zeros(ACTIVE_POOL_SIZE).to(DEVICE)\n",
        "    prediction_dist_list = []    \n",
        "     \n",
        "    with torch.no_grad(): # making sure not to accumulate any gradients\n",
        "        point_num = -1 # point counter                \n",
        "        \n",
        "        for batch_idx, (batch, targets) in enumerate(train_loader):\n",
        "            if batch_idx in range(LIMITED_NUM_BATCHES): # we already trained on this\n",
        "                print('Skipping batch {}..'.format(batch_idx))\n",
        "                continue                        \n",
        "            else: # Unexplorerd territory. Classify and keep track.\n",
        "                \n",
        "                if batch_idx < BATCH_CEILING: # Let's break out early. Only active pool from first 100 batches                                        \n",
        "                    print('Working on batch {}'.format(batch_idx))    \n",
        "                    batch, targets = batch.to(DEVICE), targets.to(DEVICE)\n",
        "                \n",
        "                    for point, label in zip(batch, targets):\n",
        "                        point_num += 1\n",
        "                    \n",
        "                        points[point_num] = point\n",
        "                        labels[point_num] = label\n",
        "                        prediction_cntr, uncertainty[point_num] = get_uncertainty_scalar(active_net, point, mc_size)\n",
        "                    \n",
        "                        prediction_dist_list.append(prediction_cntr)\n",
        "                else:                    \n",
        "                    print(\"\\nBreak out of active pool classification before batch {}\".format(batch_idx))\n",
        "                    break\n",
        "          \n",
        "    return points, labels, uncertainty, prediction_dist_list                                        \n",
        "    \n",
        "    \n",
        "points, labels, uncertainty, prediction_dist_list = classify_active_pool(active_net)\n",
        "print('\\nDONE!')\n",
        "\n",
        "\n",
        "    "
      ],
      "execution_count": 0,
      "outputs": [
        {
          "output_type": "stream",
          "text": [
            "Skipping batch 0..\n",
            "Skipping batch 1..\n",
            "Skipping batch 2..\n",
            "Skipping batch 3..\n",
            "Skipping batch 4..\n",
            "Skipping batch 5..\n",
            "Skipping batch 6..\n",
            "Skipping batch 7..\n",
            "Skipping batch 8..\n",
            "Skipping batch 9..\n",
            "Skipping batch 10..\n",
            "Skipping batch 11..\n",
            "Skipping batch 12..\n",
            "Skipping batch 13..\n",
            "Skipping batch 14..\n",
            "Skipping batch 15..\n",
            "Skipping batch 16..\n",
            "Skipping batch 17..\n",
            "Skipping batch 18..\n",
            "Skipping batch 19..\n",
            "Skipping batch 20..\n",
            "Skipping batch 21..\n",
            "Skipping batch 22..\n",
            "Skipping batch 23..\n",
            "Skipping batch 24..\n",
            "Skipping batch 25..\n",
            "Skipping batch 26..\n",
            "Skipping batch 27..\n",
            "Skipping batch 28..\n",
            "Skipping batch 29..\n",
            "Skipping batch 30..\n",
            "Skipping batch 31..\n",
            "Skipping batch 32..\n",
            "Skipping batch 33..\n",
            "Skipping batch 34..\n",
            "Skipping batch 35..\n",
            "Skipping batch 36..\n",
            "Skipping batch 37..\n",
            "Skipping batch 38..\n",
            "Skipping batch 39..\n",
            "Skipping batch 40..\n",
            "Skipping batch 41..\n",
            "Skipping batch 42..\n",
            "Skipping batch 43..\n",
            "Skipping batch 44..\n",
            "Skipping batch 45..\n",
            "Skipping batch 46..\n",
            "Skipping batch 47..\n",
            "Skipping batch 48..\n",
            "Skipping batch 49..\n",
            "Skipping batch 50..\n",
            "Skipping batch 51..\n",
            "Skipping batch 52..\n",
            "Skipping batch 53..\n",
            "Skipping batch 54..\n",
            "Skipping batch 55..\n",
            "Skipping batch 56..\n",
            "Skipping batch 57..\n",
            "Skipping batch 58..\n",
            "Skipping batch 59..\n",
            "Skipping batch 60..\n",
            "Skipping batch 61..\n",
            "Skipping batch 62..\n",
            "Skipping batch 63..\n",
            "Skipping batch 64..\n",
            "Skipping batch 65..\n",
            "Skipping batch 66..\n",
            "Skipping batch 67..\n",
            "Skipping batch 68..\n",
            "Skipping batch 69..\n",
            "Skipping batch 70..\n",
            "Skipping batch 71..\n",
            "Skipping batch 72..\n",
            "Skipping batch 73..\n",
            "Skipping batch 74..\n",
            "Skipping batch 75..\n",
            "Skipping batch 76..\n",
            "Skipping batch 77..\n",
            "Skipping batch 78..\n",
            "Skipping batch 79..\n",
            "Skipping batch 80..\n",
            "Skipping batch 81..\n",
            "Skipping batch 82..\n",
            "Skipping batch 83..\n",
            "Skipping batch 84..\n",
            "Skipping batch 85..\n",
            "Skipping batch 86..\n",
            "Skipping batch 87..\n",
            "Skipping batch 88..\n",
            "Skipping batch 89..\n",
            "Skipping batch 90..\n",
            "Skipping batch 91..\n",
            "Skipping batch 92..\n",
            "Skipping batch 93..\n",
            "Skipping batch 94..\n",
            "Skipping batch 95..\n",
            "Skipping batch 96..\n",
            "Skipping batch 97..\n",
            "Skipping batch 98..\n",
            "Skipping batch 99..\n",
            "Skipping batch 100..\n",
            "Skipping batch 101..\n",
            "Skipping batch 102..\n",
            "Skipping batch 103..\n",
            "Skipping batch 104..\n",
            "Skipping batch 105..\n",
            "Skipping batch 106..\n",
            "Skipping batch 107..\n",
            "Skipping batch 108..\n",
            "Skipping batch 109..\n",
            "Skipping batch 110..\n",
            "Skipping batch 111..\n",
            "Skipping batch 112..\n",
            "Skipping batch 113..\n",
            "Skipping batch 114..\n",
            "Skipping batch 115..\n",
            "Skipping batch 116..\n",
            "Skipping batch 117..\n",
            "Skipping batch 118..\n",
            "Skipping batch 119..\n",
            "Skipping batch 120..\n",
            "Skipping batch 121..\n",
            "Skipping batch 122..\n",
            "Skipping batch 123..\n",
            "Skipping batch 124..\n",
            "Skipping batch 125..\n",
            "Skipping batch 126..\n",
            "Skipping batch 127..\n",
            "Skipping batch 128..\n",
            "Skipping batch 129..\n",
            "Skipping batch 130..\n",
            "Skipping batch 131..\n",
            "Skipping batch 132..\n",
            "Skipping batch 133..\n",
            "Skipping batch 134..\n",
            "Skipping batch 135..\n",
            "Skipping batch 136..\n",
            "Skipping batch 137..\n",
            "Skipping batch 138..\n",
            "Skipping batch 139..\n",
            "Skipping batch 140..\n",
            "Skipping batch 141..\n",
            "Skipping batch 142..\n",
            "Skipping batch 143..\n",
            "Skipping batch 144..\n",
            "Skipping batch 145..\n",
            "Skipping batch 146..\n",
            "Skipping batch 147..\n",
            "Skipping batch 148..\n",
            "Skipping batch 149..\n",
            "Working on batch 150\n"
          ],
          "name": "stdout"
        },
        {
          "output_type": "stream",
          "text": [
            "/usr/local/lib/python3.6/dist-packages/ipykernel_launcher.py:15: UserWarning: Implicit dimension choice for log_softmax has been deprecated. Change the call to include dim=X as an argument.\n",
            "  from ipykernel import kernelapp as app\n"
          ],
          "name": "stderr"
        },
        {
          "output_type": "stream",
          "text": [
            "Working on batch 151\n",
            "Working on batch 152\n",
            "Working on batch 153\n",
            "Working on batch 154\n",
            "Working on batch 155\n",
            "Working on batch 156\n",
            "Working on batch 157\n",
            "Working on batch 158\n",
            "Working on batch 159\n",
            "Working on batch 160\n",
            "Working on batch 161\n",
            "Working on batch 162\n",
            "Working on batch 163\n",
            "Working on batch 164\n",
            "Working on batch 165\n",
            "Working on batch 166\n",
            "Working on batch 167\n",
            "Working on batch 168\n",
            "Working on batch 169\n",
            "Working on batch 170\n",
            "Working on batch 171\n",
            "Working on batch 172\n",
            "Working on batch 173\n",
            "Working on batch 174\n",
            "Working on batch 175\n",
            "Working on batch 176\n",
            "Working on batch 177\n",
            "Working on batch 178\n",
            "Working on batch 179\n",
            "Working on batch 180\n",
            "Working on batch 181\n",
            "Working on batch 182\n",
            "Working on batch 183\n",
            "Working on batch 184\n",
            "Working on batch 185\n",
            "Working on batch 186\n",
            "Working on batch 187\n",
            "Working on batch 188\n",
            "Working on batch 189\n",
            "Working on batch 190\n",
            "Working on batch 191\n",
            "Working on batch 192\n",
            "Working on batch 193\n",
            "Working on batch 194\n",
            "Working on batch 195\n",
            "Working on batch 196\n",
            "Working on batch 197\n",
            "Working on batch 198\n",
            "Working on batch 199\n",
            "\n",
            "Break out of active pool classification before batch 200\n",
            "\n",
            "DONE!\n"
          ],
          "name": "stdout"
        }
      ]
    },
    {
      "metadata": {
        "id": "GWjAc_bMJt97",
        "colab_type": "code",
        "outputId": "5e2f5890-fc25-4a00-b593-a4de3d663f53",
        "colab": {
          "base_uri": "https://localhost:8080/",
          "height": 286
        }
      },
      "cell_type": "code",
      "source": [
        "\n",
        "plt.scatter(range(len(uncertainty)), uncertainty.cpu(), c='r', s=5, label='loss', marker='.')\n"
      ],
      "execution_count": 0,
      "outputs": [
        {
          "output_type": "execute_result",
          "data": {
            "text/plain": [
              "<matplotlib.collections.PathCollection at 0x7f40a669b6d8>"
            ]
          },
          "metadata": {
            "tags": []
          },
          "execution_count": 17
        },
        {
          "output_type": "display_data",
          "data": {
            "image/png": "[encoded data removed]",
            "text/plain": [
              "<Figure size 432x288 with 1 Axes>"
            ]
          },
          "metadata": {
            "tags": []
          }
        }
      ]
    },
    {
      "metadata": {
        "id": "OIWrVewpmtvh",
        "colab_type": "code",
        "outputId": "4568b4b5-84b3-49c0-bd5e-1e9af1148245",
        "colab": {
          "base_uri": "https://localhost:8080/",
          "height": 312
        }
      },
      "cell_type": "code",
      "source": [
        "\n",
        "# Zip and sort examples by uncertainty\n",
        "big_zip = zip(points, labels, uncertainty, prediction_dist_list)\n",
        "sorted_big_zip = reversed(sorted(big_zip, key=lambda x: x[2])) # might need a .item() here\n",
        "\n",
        "# Get 5 batches worth of the most uncertain examples\n",
        "zipped_active_batch = list(sorted_big_zip)[:(DIFFERENTIAL_TRAINING*BATCH_SIZE)] \n",
        "\n",
        "# De-zip\n",
        "sorted_points, sorted_labels, sorted_uncertainties, sorted_pdl = zip(*zipped_active_batch)\n",
        "\n",
        "# Plot our sorted uncertainties\n",
        "sorted_uncertainties_plot = [x.item() for x in sorted_uncertainties]\n",
        "plt.scatter(range(len(sorted_uncertainties_plot)), sorted_uncertainties_plot, c='r', s=5, label='loss', marker='.')\n",
        "plt.title('Sorted Uncertainties')\n",
        "plt.xlabel('Examples in 25-Batch')\n",
        "plt.ylabel('Information Entropy of Predictive Ensemble')\n",
        "\n"
      ],
      "execution_count": 0,
      "outputs": [
        {
          "output_type": "execute_result",
          "data": {
            "text/plain": [
              "Text(0, 0.5, 'Information Entropy of Predictive Ensemble')"
            ]
          },
          "metadata": {
            "tags": []
          },
          "execution_count": 20
        },
        {
          "output_type": "display_data",
          "data": {
            "image/png": "[encoded data removed]",
            "text/plain": [
              "<Figure size 432x288 with 1 Axes>"
            ]
          },
          "metadata": {
            "tags": []
          }
        }
      ]
    },
    {
      "metadata": {
        "id": "Odii26PMwFNM",
        "colab_type": "code",
        "outputId": "1be8b9a7-a89e-46db-a02b-c2b9d7561905",
        "colab": {
          "base_uri": "https://localhost:8080/",
          "height": 136
        }
      },
      "cell_type": "code",
      "source": [
        "### Turn the list of tensors into batches\n",
        "\n",
        "# Stack into one big tensor\n",
        "s_points = torch.stack(sorted_points)\n",
        "s_labels = torch.stack(sorted_labels)\n",
        "\n",
        "# Permute\n",
        "rand_indx = torch.randperm(DIFFERENTIAL_TRAINING*BATCH_SIZE)\n",
        "\n",
        "shuffled_points = s_points[rand_indx]\n",
        "shuffled_labels = s_labels[rand_indx]\n",
        "\n",
        "active_batches = torch.chunk(shuffled_points, DIFFERENTIAL_TRAINING, dim=0)\n",
        "active_labels = torch.chunk(shuffled_labels, DIFFERENTIAL_TRAINING, dim=0)\n"
      ],
      "execution_count": 0,
      "outputs": [
        {
          "output_type": "stream",
          "text": [
            "torch.Size([2500, 1, 28, 28])\n",
            "torch.Size([2500, 1, 28, 28])\n",
            "torch.Size([100, 1, 28, 28])\n",
            "25\n",
            "torch.Size([2500])\n",
            "torch.Size([100])\n",
            "5000\n"
          ],
          "name": "stdout"
        }
      ]
    },
    {
      "metadata": {
        "id": "_0rpTpohYUly",
        "colab_type": "code",
        "outputId": "cd5b5c84-4cb2-469d-904b-d025658547fe",
        "colab": {
          "base_uri": "https://localhost:8080/",
          "height": 224
        }
      },
      "cell_type": "code",
      "source": [
        "\n",
        "### Train on the most uncertain examples (shuffled)\n",
        "def active_additional_train(active_net, active_optimizer, additional_active_losses,\\\n",
        "                            active_batches, active_labels):\n",
        "    active_net.train()\n",
        "    for batch_idx, (batch, targets) in enumerate(zip(active_batches, active_labels)):\n",
        "#         print('\\nAdditional active_net training, batch {}'.format(batch_idx))\n",
        "                \n",
        "        batch, targets = batch.to(DEVICE), targets.to(DEVICE)\n",
        "\n",
        "        targets = targets.to(dtype=torch.long) \n",
        "        \n",
        "        active_net.zero_grad()\n",
        "        active_loss = active_net.get_loss(batch, targets)\n",
        "        additional_active_losses.append(active_loss)\n",
        "        active_loss.backward()\n",
        "        active_optimizer.step()\n",
        "       \n",
        "\n",
        "# pass in active_batches, active_labels\n",
        "additional_active_losses = []\n",
        "for epoch in range(5):\n",
        "    active_additional_train(active_net, active_optimizer, additional_active_losses,\\\n",
        "                           active_batches, active_labels)\n",
        "    print('Finished epoch {}!'.format(epoch))\n",
        "\n",
        "print('\\nDONE!')"
      ],
      "execution_count": 0,
      "outputs": [
        {
          "output_type": "stream",
          "text": [
            "/usr/local/lib/python3.6/dist-packages/ipykernel_launcher.py:15: UserWarning: Implicit dimension choice for log_softmax has been deprecated. Change the call to include dim=X as an argument.\n",
            "  from ipykernel import kernelapp as app\n",
            "/usr/local/lib/python3.6/dist-packages/torch/nn/_reduction.py:49: UserWarning: size_average and reduce args will be deprecated, please use reduction='sum' instead.\n",
            "  warnings.warn(warning.format(ret))\n"
          ],
          "name": "stderr"
        },
        {
          "output_type": "stream",
          "text": [
            "Finished epoch 0!\n",
            "Finished epoch 1!\n",
            "Finished epoch 2!\n",
            "Finished epoch 3!\n",
            "Finished epoch 4!\n",
            "\n",
            "DONE!\n"
          ],
          "name": "stdout"
        }
      ]
    },
    {
      "metadata": {
        "id": "asku0Ohs761w",
        "colab_type": "code",
        "colab": {}
      },
      "cell_type": "code",
      "source": [
        "### Evaluation on test set.\n",
        "\n",
        "def mc_classify(net, point, mc_size, dist=False):\n",
        "    '''samples mc_size times and returns max of average prediction'''\n",
        "    # TODO: Is this what mc_classify should do?\n",
        "    \n",
        "    predictions = torch.zeros(mc_size, NUM_LABELS)\n",
        "    \n",
        "    for i in range(mc_size):\n",
        "        predictions[i] = net(point, sample=True)\n",
        "\n",
        "    pred_distribution = predictions.mean(0) # is this the right axis?\n",
        "    \n",
        "    if dist:\n",
        "        return pred_distribution\n",
        "    return torch.argmax(pred_distribution)\n",
        "\n",
        "    \n",
        "def ensemble_classify(net, mc_size=10, override_num_test_points=float('inf'), net_name='net'):\n",
        "    '''Returns labels, predictions'''    \n",
        "    \n",
        "    NUM_TEST_POINTS = min(len(test_loader)*BATCH_SIZE, override_num_test_points)\n",
        "#     print('check: {}'.format(str(len(test_loader)*BATCH_SIZE)))\n",
        "  \n",
        "    net.eval()\n",
        "    \n",
        "    predictions = torch.zeros(NUM_TEST_POINTS).to(DEVICE)\n",
        "    labels = torch.zeros(NUM_TEST_POINTS).to(DEVICE)\n",
        "    \n",
        "    with torch.no_grad(): # why is this necessary\n",
        "        point_num = -1\n",
        "        for batch_idx, (current_batch, targets) in enumerate(test_loader):\n",
        "            if point_num >= NUM_TEST_POINTS-1: # let's just classify the first batch for now\n",
        "                print('Reached NUM_TEST_POINTS. Breaking out at point {}\\n\\n'.format(point_num))\n",
        "                break\n",
        "                    \n",
        "            current_batch = current_batch.to(DEVICE)\n",
        "            targets = targets.to(DEVICE)\n",
        "            for point, label in zip(current_batch, targets):\n",
        "                point_num += 1\n",
        "                \n",
        "                predictions[point_num] = mc_classify(net, point, mc_size)\n",
        "                labels[point_num] = label\n",
        "                \n",
        "                if point_num % 100 == 0:\n",
        "                    print('{} classifying point {}'.format(net_name, point_num))\n",
        "                    \n",
        "    return labels, predictions"
      ],
      "execution_count": 0,
      "outputs": []
    },
    {
      "metadata": {
        "id": "0xNUJTzzVoqr",
        "colab_type": "code",
        "outputId": "e0dece5a-b2e1-4d7a-9a47-ca3be26faf55",
        "colab": {
          "base_uri": "https://localhost:8080/",
          "height": 1057
        }
      },
      "cell_type": "code",
      "source": [
        "random_labels, random_predictions = ensemble_classify(random_net, override_num_test_points=2500,\\\n",
        "                                                     net_name='random_net')\n",
        "active_labels, active_predictions = ensemble_classify(active_net, override_num_test_points=2500,\\\n",
        "                                                     net_name='active_net')\n",
        "print('\\nDONE!')"
      ],
      "execution_count": 0,
      "outputs": [
        {
          "output_type": "stream",
          "text": [
            "/usr/local/lib/python3.6/dist-packages/ipykernel_launcher.py:15: UserWarning: Implicit dimension choice for log_softmax has been deprecated. Change the call to include dim=X as an argument.\n",
            "  from ipykernel import kernelapp as app\n"
          ],
          "name": "stderr"
        },
        {
          "output_type": "stream",
          "text": [
            "random_net classifying point 0\n",
            "random_net classifying point 100\n",
            "random_net classifying point 200\n",
            "random_net classifying point 300\n",
            "random_net classifying point 400\n",
            "random_net classifying point 500\n",
            "random_net classifying point 600\n",
            "random_net classifying point 700\n",
            "random_net classifying point 800\n",
            "random_net classifying point 900\n",
            "random_net classifying point 1000\n",
            "random_net classifying point 1100\n",
            "random_net classifying point 1200\n",
            "random_net classifying point 1300\n",
            "random_net classifying point 1400\n",
            "random_net classifying point 1500\n",
            "random_net classifying point 1600\n",
            "random_net classifying point 1700\n",
            "random_net classifying point 1800\n",
            "random_net classifying point 1900\n",
            "random_net classifying point 2000\n",
            "random_net classifying point 2100\n",
            "random_net classifying point 2200\n",
            "random_net classifying point 2300\n",
            "random_net classifying point 2400\n",
            "Reached NUM_TEST_POINTS. Breaking out at point 2499\n",
            "\n",
            "\n",
            "active_net classifying point 0\n",
            "active_net classifying point 100\n",
            "active_net classifying point 200\n",
            "active_net classifying point 300\n",
            "active_net classifying point 400\n",
            "active_net classifying point 500\n",
            "active_net classifying point 600\n",
            "active_net classifying point 700\n",
            "active_net classifying point 800\n",
            "active_net classifying point 900\n",
            "active_net classifying point 1000\n",
            "active_net classifying point 1100\n",
            "active_net classifying point 1200\n",
            "active_net classifying point 1300\n",
            "active_net classifying point 1400\n",
            "active_net classifying point 1500\n",
            "active_net classifying point 1600\n",
            "active_net classifying point 1700\n",
            "active_net classifying point 1800\n",
            "active_net classifying point 1900\n",
            "active_net classifying point 2000\n",
            "active_net classifying point 2100\n",
            "active_net classifying point 2200\n",
            "active_net classifying point 2300\n",
            "active_net classifying point 2400\n",
            "Reached NUM_TEST_POINTS. Breaking out at point 2499\n",
            "\n",
            "\n",
            "\n",
            "DONE!\n"
          ],
          "name": "stdout"
        }
      ]
    },
    {
      "metadata": {
        "id": "XoTF0zGRBchS",
        "colab_type": "code",
        "outputId": "77d21a35-b136-47f4-d2da-7037989348e1",
        "colab": {
          "base_uri": "https://localhost:8080/",
          "height": 425
        }
      },
      "cell_type": "code",
      "source": [
        " \n",
        "def get_accuracies(labels, predictions, net_name='net'):\n",
        "    '''Get accuracy by label'''\n",
        "    print('PRINTING ACCURACIES FOR {}'.format(net_name))\n",
        "    label_pred = {}\n",
        "\n",
        "    # print(list(zip(labels, predictions)))\n",
        "    for label, pred in zip(labels, predictions):\n",
        "        if str(int(label.item())) not in label_pred:\n",
        "            label_pred[str(int(label.item()))] = []\n",
        "        label_pred[str(int(label.item()))].append(str(int(pred.item()))) # do we need a .item() here\n",
        "    \n",
        "\n",
        "    sorted_accuracies = []\n",
        "    for label in sorted(label_pred):   \n",
        "        num_correct = len([x for x in label_pred[label] if x == label])\n",
        "        print('Label {}: {} correct out of {}'.format(label, num_correct, len(label_pred[label])))       \n",
        "        sorted_accuracies.append(num_correct / len(label_pred[label]))\n",
        "\n",
        "    return label_pred, sorted_accuracies\n",
        "        \n",
        "random_lp, random_accuracies = get_accuracies(random_labels, random_predictions, net_name='random_net')\n",
        "print('\\n')\n",
        "active_lp, active_accuracies = get_accuracies(active_labels, active_predictions, net_name='active_net')"
      ],
      "execution_count": 0,
      "outputs": [
        {
          "output_type": "stream",
          "text": [
            "PRINTING ACCURACIES FOR random_net\n",
            "Label 0: 214 correct out of 219\n",
            "Label 1: 282 correct out of 287\n",
            "Label 2: 263 correct out of 276\n",
            "Label 3: 244 correct out of 254\n",
            "Label 4: 259 correct out of 275\n",
            "Label 5: 203 correct out of 221\n",
            "Label 6: 217 correct out of 225\n",
            "Label 7: 242 correct out of 257\n",
            "Label 8: 220 correct out of 242\n",
            "Label 9: 226 correct out of 244\n",
            "\n",
            "\n",
            "PRINTING ACCURACIES FOR active_net\n",
            "Label 0: 209 correct out of 219\n",
            "Label 1: 279 correct out of 287\n",
            "Label 2: 262 correct out of 276\n",
            "Label 3: 237 correct out of 254\n",
            "Label 4: 246 correct out of 275\n",
            "Label 5: 199 correct out of 221\n",
            "Label 6: 214 correct out of 225\n",
            "Label 7: 236 correct out of 257\n",
            "Label 8: 224 correct out of 242\n",
            "Label 9: 236 correct out of 244\n"
          ],
          "name": "stdout"
        }
      ]
    },
    {
      "metadata": {
        "id": "wI3QwzrnHqHB",
        "colab_type": "code",
        "outputId": "3e197404-e7a4-4d7f-a052-c897b5d8dc1e",
        "colab": {
          "base_uri": "https://localhost:8080/",
          "height": 349
        }
      },
      "cell_type": "code",
      "source": [
        "plt.bar(sorted(list(random_lp.keys())), random_accuracies)\n",
        "\n",
        "plt.title('RANDOM NET')\n",
        "plt.xlabel('Labels')\n",
        "plt.ylabel('% Accuracy')\n",
        "plt.show()\n"
      ],
      "execution_count": 0,
      "outputs": [
        {
          "output_type": "stream",
          "text": [
            "['0', '1', '2', '3', '4', '5', '6', '7', '8', '9']\n",
            "['0', '0', '0', '0', '0', '0', '0', '0', '0', '0', '0', '0', '0', '0', '0', '0', '0', '0', '0', '0', '0', '0', '0', '0', '0', '0', '0', '0', '0', '0', '0', '0', '0', '0', '0', '0', '0', '0', '0', '0', '0', '0', '0', '0', '0', '0', '0', '0', '0', '0', '0', '0', '0', '0', '0', '0', '0', '0', '0', '0', '0', '0', '0', '0', '0', '0', '0', '0', '0', '0', '0', '0', '0', '0', '0', '0', '0', '0', '0', '0', '0', '0', '0', '0', '0', '0', '0', '0', '0', '0', '0', '0', '0', '0', '0', '0', '0', '0', '0', '0', '0', '0', '0', '0', '0', '0', '0', '0', '0', '0', '0', '0', '0', '0', '0', '0', '0', '0', '0', '0', '0', '0', '0', '0', '0', '0', '0', '0', '0', '0', '0', '0', '0', '0', '0', '0', '0', '0', '0', '6', '0', '0', '0', '0', '0', '0', '0', '0', '0', '0', '0', '7', '0', '0', '0', '0', '0', '0', '0', '0', '0', '0', '0', '0', '2', '0', '0', '0', '0', '0', '0', '0', '0', '0', '0', '0', '0', '0', '0', '0', '0', '0', '0', '0', '0', '0', '0', '0', '0', '0', '0', '0', '0', '0', '0', '0', '0', '0', '0', '0', '0', '0', '0', '2', '0', '0', '0', '0', '0', '0', '0', '0', '0', '0', '2', '0', '0', '0', '0']\n"
          ],
          "name": "stdout"
        },
        {
          "output_type": "display_data",
          "data": {
            "image/png": "[encoded data removed]",
            "text/plain": [
              "<Figure size 432x288 with 1 Axes>"
            ]
          },
          "metadata": {
            "tags": []
          }
        }
      ]
    },
    {
      "metadata": {
        "id": "GUTHiG-0C0nS",
        "colab_type": "code",
        "outputId": "eac3eee6-9ad3-4662-e772-ca53a503aee7",
        "colab": {
          "base_uri": "https://localhost:8080/",
          "height": 295
        }
      },
      "cell_type": "code",
      "source": [
        "plt.bar(sorted(list(active_lp.keys())), active_accuracies)\n",
        "\n",
        "plt.title('ACTIVE NET')\n",
        "plt.xlabel('Labels')\n",
        "plt.ylabel('% Accuracy')\n",
        "plt.show()"
      ],
      "execution_count": 0,
      "outputs": [
        {
          "output_type": "display_data",
          "data": {
            "image/png": "[encoded data removed]",
            "text/plain": [
              "<Figure size 432x288 with 1 Axes>"
            ]
          },
          "metadata": {
            "tags": []
          }
        }
      ]
    }
  ]
}